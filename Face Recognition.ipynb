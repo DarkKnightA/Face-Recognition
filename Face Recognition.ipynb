{
 "cells": [
  {
   "cell_type": "code",
   "execution_count": 1,
   "id": "b2c8392b-9b96-4665-88fc-83137f3f8c65",
   "metadata": {},
   "outputs": [],
   "source": [
    "import cv2\n",
    "import numpy as np\n",
    "import os"
   ]
  },
  {
   "cell_type": "code",
   "execution_count": 2,
   "id": "c68620c9-23f3-498e-883f-4bd0df94dac0",
   "metadata": {},
   "outputs": [],
   "source": [
    "def distance(v1, v2):\n",
    "    return np.sqrt(((v1 - v2) ** 2).sum())"
   ]
  },
  {
   "cell_type": "code",
   "execution_count": 3,
   "id": "e9ee7d5f-9267-48ce-844e-e9f61428d57c",
   "metadata": {},
   "outputs": [],
   "source": [
    "def knn(train, test, k = 5):\n",
    "    dist = []\n",
    "    m = train.shape[0]\n",
    "    for i in range(m):\n",
    "        ix = train[:, :-1]\n",
    "        iy = train[:, -1]\n",
    "        d = distance(test, ix)\n",
    "        dist.append([d, iy])\n",
    "\n",
    "    dist = np.array(dist, dtype=object)\n",
    "    dk = sorted(dist, key = lambda x:x[0])[:k]\n",
    "    dk = np.array(dk, dtype=object)\n",
    "    labels = np.array([int(item[1][0]) if isinstance(item[1], np.ndarray) else int(item[1]) for item in dk], dtype=int)\n",
    "    output = np.unique(labels, return_counts = True)\n",
    "    index = np.argmax(output[1])\n",
    "    return output[0][index]\n",
    "        "
   ]
  },
  {
   "cell_type": "code",
   "execution_count": 4,
   "id": "5cd321f9-5b78-4ef9-862d-2dfb7d4c2e52",
   "metadata": {},
   "outputs": [
    {
     "name": "stdout",
     "output_type": "stream",
     "text": [
      "[array([0., 0., 0., 0., 0., 0., 0., 0., 0., 0., 0., 0., 0., 0., 0., 0., 0.,\n",
      "       0., 0., 0., 0., 0., 0., 0., 0., 0., 0.]), array([1., 1., 1., 1., 1., 1., 1., 1., 1., 1., 1., 1., 1., 1., 1., 1., 1.,\n",
      "       1., 1., 1., 1., 1., 1., 1., 1., 1., 1., 1.])]\n",
      "(55, 30000)\n",
      "(55, 1)\n",
      "(55, 30001)\n"
     ]
    }
   ],
   "source": [
    "dataset_path = './Data_FC/'\n",
    "class_id = 0\n",
    "face_data = []\n",
    "names = {}\n",
    "labels = []\n",
    "for fx in os.listdir(dataset_path):\n",
    "    if fx.endswith('.npy'):\n",
    "        names[class_id] = fx[:-4]\n",
    "        data_item = np.load(dataset_path + fx)\n",
    "        face_data.append(data_item)\n",
    "\n",
    "        target = class_id * np.ones((data_item.shape[0],))\n",
    "        class_id += 1\n",
    "        labels.append(target)\n",
    "\n",
    "print(labels)\n",
    "face_dataset = np.concatenate(face_data, axis = 0)\n",
    "face_labels = np.concatenate(labels, axis = 0).reshape((-1, 1))\n",
    "\n",
    "print(face_dataset.shape)\n",
    "print(face_labels.shape)\n",
    "\n",
    "trainset = np.concatenate((face_dataset, face_labels), axis = 1)\n",
    "print(trainset.shape)"
   ]
  },
  {
   "cell_type": "code",
   "execution_count": null,
   "id": "dc297a20-3c42-47ba-a822-c64413beab24",
   "metadata": {},
   "outputs": [],
   "source": [
    "cap = cv2.VideoCapture(0)\n",
    "face_cascade =  cv2.CascadeClassifier(cv2.data.haarcascades + 'haarcascade_frontalface_alt.xml')\n",
    "while True:\n",
    "    ret, frame = cap.read()\n",
    "    if ret == False:\n",
    "        continue\n",
    "\n",
    "    faces = face_cascade.detectMultiScale(frame, 1.3, 5)\n",
    "    if(len(faces) == 0):\n",
    "        continue\n",
    "\n",
    "    for face in faces:\n",
    "        x,y,w,h = face\n",
    "        offset = 10\n",
    "        face_section = frame[y-offset : y+h+offset, x-offset: x+w+offset]\n",
    "        face_section = cv2.resize(face_section, (100,100))\n",
    "\n",
    "        out = knn(trainset, face_section.flatten())\n",
    "        pred_name = names[int(out)]\n",
    "        cv2.putText(frame, pred_name, (x, y-10), cv2.FONT_HERSHEY_SIMPLEX, 1, (255,0,0), 2, cv2.LINE_AA)\n",
    "        cv2.rectangle(frame, (x,y), (x+w,y+h), (0,255,255), 2)\n",
    "\n",
    "        cv2.imshow(\"Faces\", frame)\n",
    "    if cv2.waitKey(1) & 0xFF == ord('q'):\n",
    "        cap.release()\n",
    "        cv2.destroyAllWindows()\n",
    "        break"
   ]
  },
  {
   "cell_type": "code",
   "execution_count": null,
   "id": "7123365c-950b-465b-877e-0df1a0e2e1a1",
   "metadata": {},
   "outputs": [],
   "source": []
  }
 ],
 "metadata": {
  "kernelspec": {
   "display_name": "Python 3 (ipykernel)",
   "language": "python",
   "name": "python3"
  },
  "language_info": {
   "codemirror_mode": {
    "name": "ipython",
    "version": 3
   },
   "file_extension": ".py",
   "mimetype": "text/x-python",
   "name": "python",
   "nbconvert_exporter": "python",
   "pygments_lexer": "ipython3",
   "version": "3.12.7"
  }
 },
 "nbformat": 4,
 "nbformat_minor": 5
}
