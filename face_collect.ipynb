{
 "cells": [
  {
   "cell_type": "code",
   "execution_count": 1,
   "id": "ce74edb2-e40c-4494-b880-8f88c2393ac3",
   "metadata": {},
   "outputs": [],
   "source": [
    "import cv2\n",
    "import numpy as np\n",
    "import os"
   ]
  },
  {
   "cell_type": "code",
   "execution_count": 2,
   "id": "a6a22e68-eaad-4fe1-8e16-15ddf763b172",
   "metadata": {},
   "outputs": [
    {
     "name": "stdin",
     "output_type": "stream",
     "text": [
      "Enter the name of the person: Ranjitha\n"
     ]
    },
    {
     "name": "stdout",
     "output_type": "stream",
     "text": [
      "1\n",
      "2\n",
      "3\n",
      "4\n",
      "5\n",
      "6\n",
      "7\n",
      "8\n",
      "9\n",
      "10\n",
      "11\n",
      "12\n",
      "13\n",
      "14\n",
      "15\n",
      "16\n",
      "17\n",
      "18\n",
      "19\n",
      "20\n",
      "21\n",
      "22\n",
      "23\n",
      "24\n",
      "25\n",
      "26\n",
      "27\n",
      "(27, 30000)\n",
      "Data Saved Successfully at./Data_FC/Ranjitha.npy\n"
     ]
    }
   ],
   "source": [
    "cap = cv2.VideoCapture(0)\n",
    "face_cascade = cv2.CascadeClassifier(cv2.data.haarcascades + 'haarcascade_frontalface_alt.xml')\n",
    "skip = 0\n",
    "face_data = []\n",
    "dataset_path = './Data_FC/'\n",
    "if not os.path.exists(dataset_path):\n",
    "    os.makedirs(dataset_path)\n",
    "file_name = input(\"Enter the name of the person:\")\n",
    "while True:\n",
    "    ret, frame = cap.read()\n",
    "    if(ret == 0):\n",
    "        continue\n",
    "\n",
    "    gray_frame = cv2.cvtColor(frame, cv2.COLOR_BGR2GRAY)\n",
    "    faces = face_cascade.detectMultiScale(gray_frame, 1.3, 5)\n",
    "    if(len(faces) == 0):\n",
    "        continue\n",
    "    faces = sorted(faces, key = lambda f:f[2] * f[3])\n",
    "    for face in faces[-1:]:\n",
    "        x,y,w,h = face\n",
    "        cv2.rectangle(frame, (x, y), (x+w, y+h),(0,255,255), 2)\n",
    "\n",
    "        offset = 10\n",
    "        face_section = frame[y-offset : y+h+offset, x-offset : x+w+offset]\n",
    "        face_section = cv2.resize(face_section, (100,100))\n",
    "\n",
    "        skip += 1\n",
    "        if skip%10 == 0:\n",
    "            face_data.append(face_section)\n",
    "            print(len(face_data))\n",
    "\n",
    "    cv2.imshow(\"Gray Frame\", gray_frame)\n",
    "    cv2.imshow(\"Face Section\", face_section)\n",
    "\n",
    "    key_pressed = cv2.waitKey(1) & 0xFF\n",
    "    if key_pressed == ord('q'):\n",
    "        break\n",
    "\n",
    "face_data = np.asarray(face_data)\n",
    "face_data = face_data.reshape((face_data.shape[0], -1))\n",
    "print(face_data.shape)\n",
    "\n",
    "np.save(dataset_path+file_name+'.npy', face_data)\n",
    "print(\"Data Saved Successfully at\"+dataset_path+file_name+'.npy')\n",
    "\n",
    "cap.release()\n",
    "cv2.destroyAllWindows()"
   ]
  },
  {
   "cell_type": "code",
   "execution_count": null,
   "id": "390f7858-cbd0-4f0e-801d-bb1e8e853c8d",
   "metadata": {},
   "outputs": [],
   "source": []
  }
 ],
 "metadata": {
  "kernelspec": {
   "display_name": "Python 3 (ipykernel)",
   "language": "python",
   "name": "python3"
  },
  "language_info": {
   "codemirror_mode": {
    "name": "ipython",
    "version": 3
   },
   "file_extension": ".py",
   "mimetype": "text/x-python",
   "name": "python",
   "nbconvert_exporter": "python",
   "pygments_lexer": "ipython3",
   "version": "3.12.7"
  }
 },
 "nbformat": 4,
 "nbformat_minor": 5
}
